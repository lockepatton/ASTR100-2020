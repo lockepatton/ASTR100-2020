{
 "cells": [
  {
   "cell_type": "markdown",
   "metadata": {},
   "source": [
    "We are working with this astroquery.astrometry_net module! Our goal is to use astrometry.net through python.\n",
    "\n",
    "https://astroquery.readthedocs.io/en/latest/astrometry_net/astrometry_net.html"
   ]
  },
  {
   "cell_type": "code",
   "execution_count": 6,
   "metadata": {},
   "outputs": [],
   "source": [
    "from astroquery.astrometry_net import AstrometryNet"
   ]
  },
  {
   "cell_type": "code",
   "execution_count": 7,
   "metadata": {},
   "outputs": [
    {
     "data": {
      "text/plain": [
       "'3.0.3'"
      ]
     },
     "execution_count": 7,
     "metadata": {},
     "output_type": "execute_result"
    }
   ],
   "source": [
    "import matplotlib\n",
    "matplotlib.__version__"
   ]
  },
  {
   "cell_type": "markdown",
   "metadata": {},
   "source": [
    "You will need an account with astrometry.net account. As part of your profile, you're given an \"API Key\", which lets python connect directly to astrometry.net by giving it a string of letters as a \"key\" to your account. This string of letters is found in your profile section.\n",
    "\n",
    "http://nova.astrometry.net/api_help"
   ]
  },
  {
   "cell_type": "code",
   "execution_count": 8,
   "metadata": {},
   "outputs": [],
   "source": [
    "ast = AstrometryNet()\n",
    "ast.api_key = \"xxxxxxxxxxx\""
   ]
  },
  {
   "cell_type": "code",
   "execution_count": 9,
   "metadata": {},
   "outputs": [
    {
     "name": "stdout",
     "output_type": "stream",
     "text": [
      "../Data/OurRun/0085.rxj0806.3+1527.fits\r\n"
     ]
    }
   ],
   "source": [
    "filename = \"../Data/OurRun/0085.rxj0806.3+1527.fits\"\n",
    "!ls $filename"
   ]
  },
  {
   "cell_type": "code",
   "execution_count": 5,
   "metadata": {},
   "outputs": [
    {
     "name": "stdout",
     "output_type": "stream",
     "text": [
      "INFO: first HDU with data is extension 1. [astropy.nddata.ccddata]\n",
      "Determining background stats\n"
     ]
    },
    {
     "name": "stderr",
     "output_type": "stream",
     "text": [
      "WARNING: VerifyWarning: Verification reported errors: [astropy.io.fits.verify]\n",
      "WARNING: VerifyWarning: Card keyword 'Comment' is not upper case.  Fixed 'COMMENT' card to meet the FITS standard. [astropy.io.fits.verify]\n",
      "WARNING: VerifyWarning: Note: astropy.io.fits uses zero-based indexing.\n",
      " [astropy.io.fits.verify]\n",
      "WARNING: FITSFixedWarning: RADECSYS= 'FK5 ' \n",
      "the RADECSYS keyword is deprecated, use RADESYSa. [astropy.wcs.wcs]\n",
      "WARNING: FITSFixedWarning: EPOCH = '2000 ' / EPOCH \n",
      "a floating-point value was expected. [astropy.wcs.wcs]\n",
      "WARNING: AstropyDeprecationWarning: \"iters\" was deprecated in version 3.1 and will be removed in a future version. Use argument \"maxiters\" instead. [astroquery.astrometry_net.core]\n"
     ]
    },
    {
     "name": "stdout",
     "output_type": "stream",
     "text": [
      "Finding sources\n",
      "Found 241 sources\n",
      " id     xcentroid      ...        flux                 mag         \n",
      "--- ------------------ ... ------------------ ---------------------\n",
      "139  545.6099184355702 ... 2503.3152479304167    -8.496288861750816\n",
      " 17    961.77020825902 ... 1776.3534845283605    -8.123823480611856\n",
      "  8  593.5668985626673 ... 1571.6340168312242     -7.99087855054383\n",
      " 95   235.114355832718 ...  992.4204731326818    -7.491739287420517\n",
      " 76  52.72581432037989 ...  913.8885314527892    -7.402233068308388\n",
      " 60  534.9777575619829 ...  767.2784432862287    -7.212382492134993\n",
      "115  647.5458750871594 ...  525.7409280948538   -6.8019294686724665\n",
      " 18 232.73350171903482 ...  493.7037632876951    -6.733666094172236\n",
      "179  367.5011854391308 ...  433.6390978296722    -6.592821080540441\n",
      " 45  944.8606772869272 ...  370.5270936144295    -6.422049924695474\n",
      "...                ... ...                ...                   ...\n",
      " 75  751.8341375945771 ...  1.104256517017648  -0.10767492756084912\n",
      " 32  73.37015718065986 ... 1.0863267974516468  -0.08990123205496772\n",
      "132 118.74346391755142 ...  1.084187288889252  -0.08776077816567873\n",
      "  2  539.1449590968266 ... 1.0662722715913127  -0.06967028881689452\n",
      "227  689.8704093066564 ... 1.0645130923596522  -0.06787751789894982\n",
      "191  870.4877833955703 ... 1.0643790329565175  -0.06774077715381469\n",
      "203 194.21847360329934 ... 1.0630581704548854  -0.06639257432883536\n",
      " 12 260.12855285258496 ... 1.0538151062330998  -0.05691104951927049\n",
      " 67   579.467545565054 ... 1.0352676080537488  -0.03763156452755868\n",
      " 27  433.8216811988462 ... 1.0051383436771824 -0.005564601557157918\n",
      " 86  519.1018787483649 ...  1.004955530145846 -0.005367111009254903\n",
      "Length = 241 rows\n"
     ]
    },
    {
     "ename": "RuntimeError",
     "evalue": "Unable to log in to astrometry.net",
     "output_type": "error",
     "traceback": [
      "\u001b[0;31m---------------------------------------------------------------------------\u001b[0m",
      "\u001b[0;31mRuntimeError\u001b[0m                              Traceback (most recent call last)",
      "\u001b[0;32m<ipython-input-5-7710b2a499c1>\u001b[0m in \u001b[0;36m<module>\u001b[0;34m\u001b[0m\n\u001b[0;32m----> 1\u001b[0;31m \u001b[0mwcs_header\u001b[0m \u001b[0;34m=\u001b[0m \u001b[0mast\u001b[0m\u001b[0;34m.\u001b[0m\u001b[0msolve_from_image\u001b[0m\u001b[0;34m(\u001b[0m\u001b[0mfilename\u001b[0m\u001b[0;34m)\u001b[0m\u001b[0;34m\u001b[0m\u001b[0;34m\u001b[0m\u001b[0m\n\u001b[0m",
      "\u001b[0;32m//anaconda/envs/py34/lib/python3.6/site-packages/astroquery/astrometry_net/core.py\u001b[0m in \u001b[0;36msolve_from_image\u001b[0;34m(self, image_file_path, force_image_upload, ra_key, dec_key, ra_dec_units, fwhm, detect_threshold, solve_timeout, **settings)\u001b[0m\n\u001b[1;32m    408\u001b[0m                                                \u001b[0mccd\u001b[0m\u001b[0;34m.\u001b[0m\u001b[0mheader\u001b[0m\u001b[0;34m[\u001b[0m\u001b[0;34m'naxis1'\u001b[0m\u001b[0;34m]\u001b[0m\u001b[0;34m,\u001b[0m\u001b[0;34m\u001b[0m\u001b[0;34m\u001b[0m\u001b[0m\n\u001b[1;32m    409\u001b[0m                                                \u001b[0mccd\u001b[0m\u001b[0;34m.\u001b[0m\u001b[0mheader\u001b[0m\u001b[0;34m[\u001b[0m\u001b[0;34m'naxis2'\u001b[0m\u001b[0;34m]\u001b[0m\u001b[0;34m,\u001b[0m\u001b[0;34m\u001b[0m\u001b[0;34m\u001b[0m\u001b[0m\n\u001b[0;32m--> 410\u001b[0;31m                                                **settings)\n\u001b[0m\u001b[1;32m    411\u001b[0m         \u001b[0;32mif\u001b[0m \u001b[0mresponse\u001b[0m\u001b[0;34m.\u001b[0m\u001b[0mstatus_code\u001b[0m \u001b[0;34m!=\u001b[0m \u001b[0;36m200\u001b[0m\u001b[0;34m:\u001b[0m\u001b[0;34m\u001b[0m\u001b[0;34m\u001b[0m\u001b[0m\n\u001b[1;32m    412\u001b[0m             \u001b[0;32mraise\u001b[0m \u001b[0mRuntimeError\u001b[0m\u001b[0;34m(\u001b[0m\u001b[0;34m'Post of job failed'\u001b[0m\u001b[0;34m)\u001b[0m\u001b[0;34m\u001b[0m\u001b[0;34m\u001b[0m\u001b[0m\n",
      "\u001b[0;32m//anaconda/envs/py34/lib/python3.6/site-packages/astroquery/astrometry_net/core.py\u001b[0m in \u001b[0;36msolve_from_source_list\u001b[0;34m(self, x, y, image_width, image_height, solve_timeout, **settings)\u001b[0m\n\u001b[1;32m    288\u001b[0m         \u001b[0mself\u001b[0m\u001b[0;34m.\u001b[0m\u001b[0m_validate_settings\u001b[0m\u001b[0;34m(\u001b[0m\u001b[0msettings\u001b[0m\u001b[0;34m)\u001b[0m\u001b[0;34m\u001b[0m\u001b[0;34m\u001b[0m\u001b[0m\n\u001b[1;32m    289\u001b[0m         \u001b[0;32mif\u001b[0m \u001b[0mself\u001b[0m\u001b[0;34m.\u001b[0m\u001b[0m_session_id\u001b[0m \u001b[0;32mis\u001b[0m \u001b[0;32mNone\u001b[0m\u001b[0;34m:\u001b[0m\u001b[0;34m\u001b[0m\u001b[0;34m\u001b[0m\u001b[0m\n\u001b[0;32m--> 290\u001b[0;31m             \u001b[0mself\u001b[0m\u001b[0;34m.\u001b[0m\u001b[0m_login\u001b[0m\u001b[0;34m(\u001b[0m\u001b[0;34m)\u001b[0m\u001b[0;34m\u001b[0m\u001b[0;34m\u001b[0m\u001b[0m\n\u001b[0m\u001b[1;32m    291\u001b[0m         \u001b[0;31m# Add the settings required for solving from a source list to the list\u001b[0m\u001b[0;34m\u001b[0m\u001b[0;34m\u001b[0m\u001b[0;34m\u001b[0m\u001b[0m\n\u001b[1;32m    292\u001b[0m         \u001b[0;31m# after validating the common settings applicable in all cases.\u001b[0m\u001b[0;34m\u001b[0m\u001b[0;34m\u001b[0m\u001b[0;34m\u001b[0m\u001b[0m\n",
      "\u001b[0;32m//anaconda/envs/py34/lib/python3.6/site-packages/astroquery/astrometry_net/core.py\u001b[0m in \u001b[0;36m_login\u001b[0;34m(self)\u001b[0m\n\u001b[1;32m    125\u001b[0m         \u001b[0mresult_dict\u001b[0m \u001b[0;34m=\u001b[0m \u001b[0mresult\u001b[0m\u001b[0;34m.\u001b[0m\u001b[0mjson\u001b[0m\u001b[0;34m(\u001b[0m\u001b[0;34m)\u001b[0m\u001b[0;34m\u001b[0m\u001b[0;34m\u001b[0m\u001b[0m\n\u001b[1;32m    126\u001b[0m         \u001b[0;32mif\u001b[0m \u001b[0mresult_dict\u001b[0m\u001b[0;34m[\u001b[0m\u001b[0;34m'status'\u001b[0m\u001b[0;34m]\u001b[0m \u001b[0;34m!=\u001b[0m \u001b[0;34m'success'\u001b[0m\u001b[0;34m:\u001b[0m\u001b[0;34m\u001b[0m\u001b[0;34m\u001b[0m\u001b[0m\n\u001b[0;32m--> 127\u001b[0;31m             \u001b[0;32mraise\u001b[0m \u001b[0mRuntimeError\u001b[0m\u001b[0;34m(\u001b[0m\u001b[0;34m'Unable to log in to astrometry.net'\u001b[0m\u001b[0;34m)\u001b[0m\u001b[0;34m\u001b[0m\u001b[0;34m\u001b[0m\u001b[0m\n\u001b[0m\u001b[1;32m    128\u001b[0m         \u001b[0mself\u001b[0m\u001b[0;34m.\u001b[0m\u001b[0m_session_id\u001b[0m \u001b[0;34m=\u001b[0m \u001b[0mresult_dict\u001b[0m\u001b[0;34m[\u001b[0m\u001b[0;34m'session'\u001b[0m\u001b[0;34m]\u001b[0m\u001b[0;34m\u001b[0m\u001b[0;34m\u001b[0m\u001b[0m\n\u001b[1;32m    129\u001b[0m \u001b[0;34m\u001b[0m\u001b[0m\n",
      "\u001b[0;31mRuntimeError\u001b[0m: Unable to log in to astrometry.net"
     ]
    }
   ],
   "source": [
    "wcs_header = ast.solve_from_image(filename)"
   ]
  },
  {
   "cell_type": "markdown",
   "metadata": {},
   "source": [
    "It returns a header with the world coordinate system (WCS) parameters added to the frame. The WCS will match the first data it finds, in this case the 1st corner of our total image because our image is split in 4."
   ]
  },
  {
   "cell_type": "code",
   "execution_count": null,
   "metadata": {
    "scrolled": true
   },
   "outputs": [],
   "source": [
    "wcs_header"
   ]
  },
  {
   "cell_type": "code",
   "execution_count": null,
   "metadata": {},
   "outputs": [],
   "source": [
    "type(wcs_header)\n",
    "wcs_header['NAXIS']=2\n",
    "wcs_header"
   ]
  },
  {
   "cell_type": "code",
   "execution_count": null,
   "metadata": {},
   "outputs": [],
   "source": [
    "from astropy.io import fits\n",
    "import numpy as np\n",
    "import matplotlib.pylab as plt\n",
    "from astropy import wcs\n",
    "\n",
    "f = fits.open(filename)\n",
    "data = f[1].data\n",
    "header = wcs_header #f[0].header\n",
    "\n",
    "mean = np.mean(data)\n",
    "median = np.median(data)\n",
    "sigma = np.std(data)\n",
    "\n",
    "w = wcs.WCS(header)\n",
    "\n",
    "#PLOT SETUP\n",
    "fig = plt.figure(figsize=(8,6))\n",
    "ax = fig.add_subplot(111, projection=w)\n",
    "# ax.set_autoscale_on(True)\n",
    "fig.set_size_inches(10,10)\n",
    "# fig.set_size_inches(4,4)\n",
    "\n",
    "width_pix = 705\n",
    "height_pix = 705\n",
    "ax.set_xlim(0,width_pix);\n",
    "ax.set_ylim(0,height_pix);\n",
    "# ax.invert_yaxis()\n",
    "# ax.invert_xaxis()\n",
    "# ax.set_title('DIS Observations Slit and SN Locations, RA vs. DEC')\n",
    "ax.set_xlabel('Right Ascension, $RA$ J2000')\n",
    "ax.set_ylabel('Declination, $\\delta$ J2000')\n",
    "ax.grid(color='black')\n",
    "\n",
    "ax.imshow(data, vmin=median-.1*sigma, vmax=median+.1*sigma);\n",
    "\n",
    "from astropy.coordinates import SkyCoord\n",
    "from astroquery.gaia import Gaia\n",
    "import astroquery\n",
    "import astropy.units as u\n",
    "\n",
    "# here we are pulling the center of the image from the header\n",
    "coord = SkyCoord(ra=header['CRVAL1'], dec=header['CRVAL2'],\n",
    "                 unit=(u.degree, u.degree), frame='icrs')\n",
    "\n",
    "# and we query gaia data for 10 arcmin around.\n",
    "r = Gaia.query_object_async(coordinate=coord, radius= 10 * u.arcmin)\n",
    "\n",
    "# the result is a whole bunch of ra and dec\n",
    "radec = np.array( [r[\"ra\"], r[\"dec\"]] ).T\n",
    "# we turn those into pixel values with the following:\n",
    "pixels = w.wcs_world2pix(radec, 1)\n",
    "\n",
    "# which we finally plot as follows:\n",
    "plt.scatter(pixels.T[0], pixels.T[1], s=400, marker='o', facecolors='none', edgecolors='r');"
   ]
  }
 ],
 "metadata": {
  "kernelspec": {
   "display_name": "Python [conda env:py34]",
   "language": "python",
   "name": "conda-env-py34-py"
  },
  "language_info": {
   "codemirror_mode": {
    "name": "ipython",
    "version": 3
   },
   "file_extension": ".py",
   "mimetype": "text/x-python",
   "name": "python",
   "nbconvert_exporter": "python",
   "pygments_lexer": "ipython3",
   "version": "3.6.8"
  }
 },
 "nbformat": 4,
 "nbformat_minor": 2
}
